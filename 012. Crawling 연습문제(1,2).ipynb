{
 "cells": [
  {
   "cell_type": "markdown",
   "id": "f7b9819f",
   "metadata": {},
   "source": [
    "# 연습문제 1"
   ]
  },
  {
   "cell_type": "code",
   "execution_count": 3,
   "id": "83845867",
   "metadata": {},
   "outputs": [
    {
     "name": "stdout",
     "output_type": "stream",
     "text": [
      "Requirement already satisfied: requests in c:\\users\\82109\\anaconda3\\lib\\site-packages (2.25.1)\n",
      "Requirement already satisfied: chardet<5,>=3.0.2 in c:\\users\\82109\\anaconda3\\lib\\site-packages (from requests) (4.0.0)\n",
      "Requirement already satisfied: certifi>=2017.4.17 in c:\\users\\82109\\anaconda3\\lib\\site-packages (from requests) (2020.12.5)\n",
      "Requirement already satisfied: idna<3,>=2.5 in c:\\users\\82109\\anaconda3\\lib\\site-packages (from requests) (2.10)\n",
      "Requirement already satisfied: urllib3<1.27,>=1.21.1 in c:\\users\\82109\\anaconda3\\lib\\site-packages (from requests) (1.26.4)\n",
      "Requirement already satisfied: beautifulsoup4 in c:\\users\\82109\\anaconda3\\lib\\site-packages (4.9.3)\n",
      "Requirement already satisfied: soupsieve>1.2 in c:\\users\\82109\\anaconda3\\lib\\site-packages (from beautifulsoup4) (2.2.1)\n"
     ]
    }
   ],
   "source": [
    "!pip3 install requests\n",
    "!pip3 install beautifulsoup4\n",
    "#크롤링 URL : http://www.paullab.co.kr/stock.html"
   ]
  },
  {
   "cell_type": "code",
   "execution_count": 5,
   "id": "d8b31dd3",
   "metadata": {},
   "outputs": [],
   "source": [
    "import requests\n",
    "from bs4 import BeautifulSoup\n",
    "\n",
    "response = requests.get('http://www.paullab.co.kr/stock.html')\n",
    "\n",
    "response.encoding = 'utf-8'\n",
    "html = response.text\n",
    "\n",
    "soup = BeautifulSoup(html, 'html.parser')"
   ]
  },
  {
   "cell_type": "code",
   "execution_count": 12,
   "id": "73435a4a",
   "metadata": {},
   "outputs": [
    {
     "data": {
      "text/plain": [
       "<div class=\"main\">\n",
       "<h2 id=\"제주코딩베이스캠프학원\">제주코딩베이스캠프 학원</h2>\n",
       "<h3><span style=\"color: salmon\">일별</span> 시세</h3>\n",
       "<table class=\"table table-hover\">\n",
       "<tbody>\n",
       "<tr>\n",
       "<th scope=\"col\">날짜</th>\n",
       "<th scope=\"col\">종가</th>\n",
       "<th scope=\"col\">전일비</th>\n",
       "<th scope=\"col\">시가</th>\n",
       "<th scope=\"col\">고가</th>\n",
       "<th scope=\"col\">저가</th>\n",
       "<th scope=\"col\">거래량</th>\n",
       "</tr>\n",
       "<tr>\n",
       "<td align=\"center \"><span class=\"date\">2019.10.23</span></td>\n",
       "<td class=\"num\"><span>2,600</span></td>\n",
       "<td class=\"num\">\n",
       "<img height=\"6 \" src=\"ico_up.gif \" style=\"margin-right:4px; \" width=\"7 \"/><span>\n",
       "                            600\n",
       "                        </span>\n",
       "</td>\n",
       "<td class=\"num\"><span>2,055</span></td>\n",
       "<td class=\"num\"><span>2,600</span></td>\n",
       "<td class=\"num\"><span>2,020</span></td>\n",
       "<td class=\"num\"><span>2,203,110</span></td>\n",
       "</tr>\n",
       "<tr>\n",
       "<td align=\"center\"><span class=\"date\">2019.10.22</span></td>\n",
       "<td class=\"num\"><span>2,000</span></td>\n",
       "<td class=\"num\">\n",
       "<img alt=\"상승\" height=\"6\" src=\"ico_up.gif\" style=\"margin-right:4px;\" width=\"7\"/><span>\n",
       "                            5\n",
       "                        </span>\n",
       "</td>\n",
       "<td class=\"num\"><span>1,985</span></td>\n",
       "<td class=\"num\"><span>2,005</span></td>\n",
       "<td class=\"num\"><span>1,980</span></td>\n",
       "<td class=\"num\"><span>32,212</span></td>\n",
       "</tr>\n",
       "<tr>\n",
       "<td align=\"center\"><span class=\"date\">2019.10.21</span></td>\n",
       "<td class=\"num\"><span>1,995</span></td>\n",
       "<td class=\"num\">\n",
       "<img alt=\"하락\" height=\"6\" src=\"ico_down.gif\" style=\"margin-right:4px;\" width=\"7\"/><span class=\"tah p11 nv01\">\n",
       "                            30\n",
       "                        </span>\n",
       "</td>\n",
       "<td class=\"num\"><span>2,025</span></td>\n",
       "<td class=\"num\"><span>2,035</span></td>\n",
       "<td class=\"num\"><span>1,975</span></td>\n",
       "<td class=\"num\"><span>35,186</span></td>\n",
       "</tr>\n",
       "<tr>\n",
       "<td align=\"center\"><span class=\"date\">2019.10.18</span></td>\n",
       "<td class=\"num\"><span>2,025</span></td>\n",
       "<td class=\"num\">\n",
       "<img alt=\"상승\" height=\"6\" src=\"ico_up.gif\" style=\"margin-right:4px;\" width=\"7\"/><span>\n",
       "                            40\n",
       "                        </span>\n",
       "</td>\n",
       "<td class=\"num\"><span>1,985</span></td>\n",
       "<td class=\"num\"><span>2,050</span></td>\n",
       "<td class=\"num\"><span>1,980</span></td>\n",
       "<td class=\"num\"><span>108,481</span></td>\n",
       "</tr>\n",
       "<tr>\n",
       "<td align=\"center\"><span class=\"date\">2019.10.17</span></td>\n",
       "<td class=\"num\"><span>1,985</span></td>\n",
       "<td class=\"num\">\n",
       "<img alt=\"상승\" height=\"6\" src=\"ico_up.gif\" style=\"margin-right:4px;\" width=\"7\"/><span>\n",
       "                            10\n",
       "                        </span>\n",
       "</td>\n",
       "<td class=\"num\"><span>1,980</span></td>\n",
       "<td class=\"num\"><span>1,990</span></td>\n",
       "<td class=\"num\"><span>1,955</span></td>\n",
       "<td class=\"num\"><span>20,766</span></td>\n",
       "</tr>\n",
       "<tr>\n",
       "<td align=\"center\"><span class=\"date\">2019.10.16</span></td>\n",
       "<td class=\"num\"><span>1,975</span></td>\n",
       "<td class=\"num\">\n",
       "<img alt=\"하락\" height=\"6\" src=\"ico_down.gif\" style=\"margin-right:4px;\" width=\"7\"/><span class=\"tah p11 nv01\">\n",
       "                            5\n",
       "                        </span>\n",
       "</td>\n",
       "<td class=\"num\"><span>1,985</span></td>\n",
       "<td class=\"num\"><span>1,995</span></td>\n",
       "<td class=\"num\"><span>1,970</span></td>\n",
       "<td class=\"num\"><span>19,243</span></td>\n",
       "</tr>\n",
       "<tr>\n",
       "<td align=\"center\"><span class=\"date\">2019.10.15</span></td>\n",
       "<td class=\"num\"><span>1,980</span></td>\n",
       "<td class=\"num\">\n",
       "<img alt=\"상승\" height=\"6\" src=\"ico_up.gif\" style=\"margin-right:4px;\" width=\"7\"/><span>\n",
       "                            20\n",
       "                        </span>\n",
       "</td>\n",
       "<td class=\"num\"><span>1,970</span></td>\n",
       "<td class=\"num\"><span>1,980</span></td>\n",
       "<td class=\"num\"><span>1,960</span></td>\n",
       "<td class=\"num\"><span>35,658</span></td>\n",
       "</tr>\n",
       "<tr>\n",
       "<td align=\"center\"><span class=\"date\">2019.10.14</span></td>\n",
       "<td class=\"num\"><span>1,960</span></td>\n",
       "<td class=\"num\">\n",
       "<span>0</span>\n",
       "</td>\n",
       "<td class=\"num\"><span>1,955</span></td>\n",
       "<td class=\"num\"><span>1,970</span></td>\n",
       "<td class=\"num\"><span>1,935</span></td>\n",
       "<td class=\"num\"><span>26,698</span></td>\n",
       "</tr>\n",
       "<tr>\n",
       "<td align=\"center\"><span class=\"date\">2019.10.11</span></td>\n",
       "<td class=\"num\"><span>1,960</span></td>\n",
       "<td class=\"num\">\n",
       "<img alt=\"상승\" height=\"6\" src=\"ico_up.gif\" style=\"margin-right:4px;\" width=\"7\"/><span>\n",
       "                            45\n",
       "                        </span>\n",
       "</td>\n",
       "<td class=\"num\"><span>1,925</span></td>\n",
       "<td class=\"num\"><span>1,965</span></td>\n",
       "<td class=\"num\"><span>1,910</span></td>\n",
       "<td class=\"num\"><span>45,469</span></td>\n",
       "</tr>\n",
       "<tr>\n",
       "<td align=\"center\"><span class=\"date\">2019.10.10</span></td>\n",
       "<td class=\"num\"><span>1,915</span></td>\n",
       "<td class=\"num\">\n",
       "<img alt=\"상승\" height=\"6\" src=\"ico_up.gif\" style=\"margin-right:4px;\" width=\"7\"/><span>\n",
       "                            15\n",
       "                        </span>\n",
       "</td>\n",
       "<td class=\"num\"><span>1,885</span></td>\n",
       "<td class=\"num\"><span>1,915</span></td>\n",
       "<td class=\"num\"><span>1,885</span></td>\n",
       "<td class=\"num\"><span>32,773</span></td>\n",
       "</tr>\n",
       "<tr>\n",
       "<td align=\"center\"><span class=\"date\">2019.10.08</span></td>\n",
       "<td class=\"num\"><span>1,900</span></td>\n",
       "<td class=\"num\">\n",
       "<img alt=\"하락\" height=\"6\" src=\"ico_down.gif\" style=\"margin-right:4px;\" width=\"7\"/><span class=\"tah p11 nv01\">\n",
       "                            20\n",
       "                        </span>\n",
       "</td>\n",
       "<td class=\"num\"><span>1,915</span></td>\n",
       "<td class=\"num\"><span>1,935</span></td>\n",
       "<td class=\"num\"><span>1,885</span></td>\n",
       "<td class=\"num\"><span>62,433</span></td>\n",
       "</tr>\n",
       "<tr>\n",
       "<td align=\"center\"><span class=\"date\">2019.10.07</span></td>\n",
       "<td class=\"num\"><span>1,920</span></td>\n",
       "<td class=\"num\">\n",
       "<img alt=\"하락\" height=\"6\" src=\"ico_down.gif\" style=\"margin-right:4px;\" width=\"7\"/><span class=\"tah p11 nv01\">\n",
       "                            50\n",
       "                        </span>\n",
       "</td>\n",
       "<td class=\"num\"><span>1,970</span></td>\n",
       "<td class=\"num\"><span>1,980</span></td>\n",
       "<td class=\"num\"><span>1,895</span></td>\n",
       "<td class=\"num\"><span>89,504</span></td>\n",
       "</tr>\n",
       "<tr>\n",
       "<td align=\"center\"><span class=\"date\">2019.10.04</span></td>\n",
       "<td class=\"num\"><span>1,970</span></td>\n",
       "<td class=\"num\">\n",
       "<img alt=\"하락\" height=\"6\" src=\"ico_down.gif\" style=\"margin-right:4px;\" width=\"7\"/><span class=\"tah p11 nv01\">\n",
       "                            20\n",
       "                        </span>\n",
       "</td>\n",
       "<td class=\"num\"><span>1,980</span></td>\n",
       "<td class=\"num\"><span>2,005</span></td>\n",
       "<td class=\"num\"><span>1,970</span></td>\n",
       "<td class=\"num\"><span>47,894</span></td>\n",
       "</tr>\n",
       "<tr>\n",
       "<td align=\"center\"><span class=\"date\">2019.10.02</span></td>\n",
       "<td class=\"num\"><span>1,990</span></td>\n",
       "<td class=\"num\">\n",
       "<span>0</span>\n",
       "</td>\n",
       "<td class=\"num\"><span>1,975</span></td>\n",
       "<td class=\"num\"><span>2,030</span></td>\n",
       "<td class=\"num\"><span>1,965</span></td>\n",
       "<td class=\"num\"><span>74,176</span></td>\n",
       "</tr>\n",
       "<tr>\n",
       "<td align=\"center\"><span class=\"date\">2019.10.01</span></td>\n",
       "<td class=\"num\"><span>1,990</span></td>\n",
       "<td class=\"num\">\n",
       "<img alt=\"상승\" height=\"6\" src=\"ico_up.gif\" style=\"margin-right:4px;\" width=\"7\"/><span>\n",
       "                            20\n",
       "                        </span>\n",
       "</td>\n",
       "<td class=\"num\"><span>1,975</span></td>\n",
       "<td class=\"num\"><span>2,005</span></td>\n",
       "<td class=\"num\"><span>1,965</span></td>\n",
       "<td class=\"num\"><span>44,690</span></td>\n",
       "</tr>\n",
       "<tr>\n",
       "<td align=\"center\"><span class=\"date\">2019.09.30</span></td>\n",
       "<td class=\"num\"><span>1,970</span></td>\n",
       "<td class=\"num\">\n",
       "<img alt=\"하락\" height=\"6\" src=\"ico_down.gif\" style=\"margin-right:4px;\" width=\"7\"/><span class=\"tah p11 nv01\">\n",
       "                            5\n",
       "                        </span>\n",
       "</td>\n",
       "<td class=\"num\"><span>1,980</span></td>\n",
       "<td class=\"num\"><span>2,000</span></td>\n",
       "<td class=\"num\"><span>1,970</span></td>\n",
       "<td class=\"num\"><span>34,087</span></td>\n",
       "</tr>\n",
       "<tr>\n",
       "<td align=\"center\"><span class=\"date\">2019.09.27</span></td>\n",
       "<td class=\"num\"><span>1,975</span></td>\n",
       "<td class=\"num\">\n",
       "<img alt=\"상승\" height=\"6\" src=\"ico_up.gif\" style=\"margin-right:4px;\" width=\"7\"/><span>\n",
       "                            5\n",
       "                        </span>\n",
       "</td>\n",
       "<td class=\"num\"><span>1,975</span></td>\n",
       "<td class=\"num\"><span>2,060</span></td>\n",
       "<td class=\"num\"><span>1,965</span></td>\n",
       "<td class=\"num\"><span>109,372</span></td>\n",
       "</tr>\n",
       "<tr>\n",
       "<td align=\"center\"><span class=\"date\">2019.09.26</span></td>\n",
       "<td class=\"num\"><span>1,970</span></td>\n",
       "<td class=\"num\">\n",
       "<img alt=\"하락\" height=\"6\" src=\"ico_down.gif\" style=\"margin-right:4px;\" width=\"7\"/><span class=\"tah p11 nv01\">\n",
       "                            30\n",
       "                        </span>\n",
       "</td>\n",
       "<td class=\"num\"><span>2,000</span></td>\n",
       "<td class=\"num\"><span>2,035</span></td>\n",
       "<td class=\"num\"><span>1,950</span></td>\n",
       "<td class=\"num\"><span>83,120</span></td>\n",
       "</tr>\n",
       "<tr>\n",
       "<td align=\"center\"><span class=\"date\">2019.09.25</span></td>\n",
       "<td class=\"num\"><span>2,000</span></td>\n",
       "<td class=\"num\">\n",
       "<img alt=\"하락\" height=\"6\" src=\"ico_down.gif\" style=\"margin-right:4px;\" width=\"7\"/><span class=\"tah p11 nv01\">\n",
       "                            65\n",
       "                        </span>\n",
       "</td>\n",
       "<td class=\"num\"><span>2,065</span></td>\n",
       "<td class=\"num\"><span>2,065</span></td>\n",
       "<td class=\"num\"><span>1,985</span></td>\n",
       "<td class=\"num\"><span>78,144</span></td>\n",
       "</tr>\n",
       "<tr>\n",
       "<td align=\"center\"><span class=\"date\">2019.09.24</span></td>\n",
       "<td class=\"num\"><span>2,065</span></td>\n",
       "<td class=\"num\">\n",
       "<img alt=\"상승\" height=\"6\" src=\"ico_up.gif\" style=\"margin-right:4px;\" width=\"7\"/><span>\n",
       "                            30\n",
       "                        </span>\n",
       "</td>\n",
       "<td class=\"num\"><span>2,020</span></td>\n",
       "<td class=\"num\"><span>2,090</span></td>\n",
       "<td class=\"num\"><span>2,020</span></td>\n",
       "<td class=\"num\"><span>139,085</span></td>\n",
       "</tr>\n",
       "</tbody>\n",
       "</table>\n",
       "</div>"
      ]
     },
     "execution_count": 12,
     "metadata": {},
     "output_type": "execute_result"
    }
   ],
   "source": [
    "soup.select('.main')[2]\n",
    "soup.select('.main')[3]\n",
    "soup.select('.main')[4]\n",
    "soup.select('.main')[5]"
   ]
  },
  {
   "cell_type": "code",
   "execution_count": 24,
   "id": "ed5627fd",
   "metadata": {},
   "outputs": [],
   "source": [
    "그룹사별일일시가 = soup.select('.main')[2:6]\n",
    "오늘종가 = []\n",
    "오늘시가총액 = []\n",
    "\n",
    "for i in 그룹사별일일시가:\n",
    "    오늘종가.append(int(i.select('.table > tbody > tr')[1].select('td')[1].select('td > span')[0].text.replace(',','')))"
   ]
  },
  {
   "cell_type": "code",
   "execution_count": 29,
   "id": "fce3b98c",
   "metadata": {},
   "outputs": [
    {
     "data": {
      "text/plain": [
       "['66,500,000', '313,000,000', '132,500,000', '26,000,000']"
      ]
     },
     "execution_count": 29,
     "metadata": {},
     "output_type": "execute_result"
    }
   ],
   "source": [
    "오늘시가총액 = [format(i * 10000, ',') for i in 오늘종가]\n",
    "오늘시가총액"
   ]
  },
  {
   "cell_type": "code",
   "execution_count": 31,
   "id": "3bc66cd9",
   "metadata": {},
   "outputs": [
    {
     "data": {
      "text/plain": [
       "'538,000,000'"
      ]
     },
     "execution_count": 31,
     "metadata": {},
     "output_type": "execute_result"
    }
   ],
   "source": [
    "오늘시가총액 = [i * 10000 for i in 오늘종가]\n",
    "전그룹사시가총액 = format(sum(오늘시가총액), ',')\n",
    "전그룹사시가총액"
   ]
  },
  {
   "cell_type": "markdown",
   "id": "52ab84ed",
   "metadata": {},
   "source": [
    "# 연습문제 2"
   ]
  },
  {
   "cell_type": "code",
   "execution_count": 32,
   "id": "5dd64b3c",
   "metadata": {},
   "outputs": [
    {
     "data": {
      "text/plain": [
       "[53800,\n",
       " 53180,\n",
       " 53615,\n",
       " 52305,\n",
       " 49035,\n",
       " 48755,\n",
       " 46970,\n",
       " 46140,\n",
       " 45900,\n",
       " 45765,\n",
       " 44000,\n",
       " 43210,\n",
       " 43830,\n",
       " 44310,\n",
       " 44850,\n",
       " 44370,\n",
       " 43935,\n",
       " 44180,\n",
       " 44410,\n",
       " 46245]"
      ]
     },
     "execution_count": 32,
     "metadata": {},
     "output_type": "execute_result"
    }
   ],
   "source": [
    "그룹사별일일시가 = soup.select('.main')[2:6]\n",
    "오늘종가 = []\n",
    "오늘시가총액 = []\n",
    "\n",
    "for j in range(1, len(soup.select('.main')[2].select('.table > tbody > tr'))):\n",
    "    오늘종가 = []\n",
    "    for i in 그룹사별일일시가:\n",
    "        오늘종가.append(int(i.select('.table > tbody > tr')[j].select('td')[1].select('td > span')[0].text.replace(',','')))\n",
    "    오늘시가총액.append(sum(오늘종가))\n",
    "    \n",
    "오늘시가총액"
   ]
  },
  {
   "cell_type": "code",
   "execution_count": 34,
   "id": "0dbcda06",
   "metadata": {},
   "outputs": [
    {
     "data": {
      "text/plain": [
       "['2019.10.23',\n",
       " '2019.10.22',\n",
       " '2019.10.21',\n",
       " '2019.10.18',\n",
       " '2019.10.17',\n",
       " '2019.10.16',\n",
       " '2019.10.15',\n",
       " '2019.10.14',\n",
       " '2019.10.11',\n",
       " '2019.10.10',\n",
       " '2019.10.08',\n",
       " '2019.10.07',\n",
       " '2019.10.04',\n",
       " '2019.10.02',\n",
       " '2019.10.01',\n",
       " '2019.09.30',\n",
       " '2019.09.27',\n",
       " '2019.09.26',\n",
       " '2019.09.25',\n",
       " '2019.09.24']"
      ]
     },
     "execution_count": 34,
     "metadata": {},
     "output_type": "execute_result"
    }
   ],
   "source": [
    "날짜 = soup.select('.main')[2].select('.table > tbody > tr > td > .date')\n",
    "date = []\n",
    "for i in 날짜:\n",
    "    date.append(i.text)\n",
    "date"
   ]
  },
  {
   "cell_type": "code",
   "execution_count": 39,
   "id": "5609370d",
   "metadata": {},
   "outputs": [
    {
     "data": {
      "image/png": "[encoded data removed]",
      "text/plain": [
       "<Figure size 432x288 with 1 Axes>"
      ]
     },
     "metadata": {
      "needs_background": "light"
     },
     "output_type": "display_data"
    }
   ],
   "source": [
    "%matplotlib inline\n",
    "import matplotlib.pyplot as plt\n",
    "\n",
    "plt.plot(date[::-1], 오늘시가총액[::-1])\n",
    "plt.xticks(rotation = -45)\n",
    "plt.show()"
   ]
  },
  {
   "cell_type": "code",
   "execution_count": null,
   "id": "65cf49e1",
   "metadata": {},
   "outputs": [],
   "source": []
  },
  {
   "cell_type": "code",
   "execution_count": null,
   "id": "2132526c",
   "metadata": {},
   "outputs": [],
   "source": []
  },
  {
   "cell_type": "code",
   "execution_count": null,
   "id": "bb4a29c0",
   "metadata": {},
   "outputs": [],
   "source": []
  },
  {
   "cell_type": "code",
   "execution_count": null,
   "id": "ad7cebec",
   "metadata": {},
   "outputs": [],
   "source": []
  },
  {
   "cell_type": "code",
   "execution_count": null,
   "id": "12988bca",
   "metadata": {},
   "outputs": [],
   "source": []
  },
  {
   "cell_type": "code",
   "execution_count": null,
   "id": "45ce4d9e",
   "metadata": {},
   "outputs": [],
   "source": []
  }
 ],
 "metadata": {
  "kernelspec": {
   "display_name": "Python 3",
   "language": "python",
   "name": "python3"
  },
  "language_info": {
   "codemirror_mode": {
    "name": "ipython",
    "version": 3
   },
   "file_extension": ".py",
   "mimetype": "text/x-python",
   "name": "python",
   "nbconvert_exporter": "python",
   "pygments_lexer": "ipython3",
   "version": "3.8.8"
  }
 },
 "nbformat": 4,
 "nbformat_minor": 5
}
