{
 "cells": [
  {
   "cell_type": "code",
   "execution_count": 4,
   "id": "7f93c760",
   "metadata": {},
   "outputs": [
    {
     "name": "stdout",
     "output_type": "stream",
     "text": [
      "13\n"
     ]
    }
   ],
   "source": [
    "x = 3\n",
    "y= 10\n",
    "print(x + y)"
   ]
  },
  {
   "cell_type": "code",
   "execution_count": 5,
   "id": "b7b3a96b",
   "metadata": {},
   "outputs": [
    {
     "data": {
      "text/plain": [
       "'\\nhello world\\n'"
      ]
     },
     "execution_count": 5,
     "metadata": {},
     "output_type": "execute_result"
    }
   ],
   "source": [
    "#hello world\n",
    "'''\n",
    "hello world\n",
    "'''"
   ]
  },
  {
   "cell_type": "code",
   "execution_count": 14,
   "id": "4cb43f54",
   "metadata": {},
   "outputs": [
    {
     "name": "stdout",
     "output_type": "stream",
     "text": [
      "leehojun\n",
      "<class 'int'>\n"
     ]
    }
   ],
   "source": [
    "a = 10             #int(정수)\n",
    "b = 10.1           #float(실수)\n",
    "c = 'hello world'  #str(문자열)\n",
    "d = -1             #int(정수)\n",
    "e = 'lee'\n",
    "f = 'hojun'\n",
    "g = 10 +2j #복소수\n",
    "h = 0b1001 #int(2진수)\n",
    "i = 0o1001 #int(8잔수)\n",
    "j = 0x1001 #int(16진수)\n",
    "print(e + f)\n",
    "print(type(a))\n",
    "#print(dir(a))"
   ]
  },
  {
   "cell_type": "code",
   "execution_count": 23,
   "id": "2f9026fb",
   "metadata": {},
   "outputs": [
    {
     "name": "stdout",
     "output_type": "stream",
     "text": [
      "<class 'str'>\n",
      "p\n",
      "paullab\n",
      "pulbCOLe\n",
      "OEC ballua\n",
      "pulbC\n",
      "pulbCOLeou\n",
      "nuJoHeeL OEC balluap\n",
      "n\n"
     ]
    }
   ],
   "source": [
    "s = 'paullab CEO LeeHoJun'\n",
    "print(type(s))\n",
    "#print(dir(s))\n",
    "print(s[0])\n",
    "print(s[0:7])\n",
    "print(s[0:15:2])\n",
    "print(s[10:0:-1])\n",
    "print(s[:10:2])\n",
    "print(s[::2])\n",
    "print(s[::-1])\n",
    "print(s[-1]) #마지막 값을 알고 싶을 때\n"
   ]
  },
  {
   "cell_type": "code",
   "execution_count": 39,
   "id": "40de4280",
   "metadata": {},
   "outputs": [
    {
     "name": "stdout",
     "output_type": "stream",
     "text": [
      "<class 'str'>\n",
      "['__add__', '__class__', '__contains__', '__delattr__', '__dir__', '__doc__', '__eq__', '__format__', '__ge__', '__getattribute__', '__getitem__', '__getnewargs__', '__gt__', '__hash__', '__init__', '__init_subclass__', '__iter__', '__le__', '__len__', '__lt__', '__mod__', '__mul__', '__ne__', '__new__', '__reduce__', '__reduce_ex__', '__repr__', '__rmod__', '__rmul__', '__setattr__', '__sizeof__', '__str__', '__subclasshook__', 'capitalize', 'casefold', 'center', 'count', 'encode', 'endswith', 'expandtabs', 'find', 'format', 'format_map', 'index', 'isalnum', 'isalpha', 'isascii', 'isdecimal', 'isdigit', 'isidentifier', 'islower', 'isnumeric', 'isprintable', 'isspace', 'istitle', 'isupper', 'join', 'ljust', 'lower', 'lstrip', 'maketrans', 'partition', 'replace', 'rfind', 'rindex', 'rjust', 'rpartition', 'rsplit', 'rstrip', 'split', 'splitlines', 'startswith', 'strip', 'swapcase', 'title', 'translate', 'upper', 'zfill']\n",
      "PAULLAB CEO LEEHOJUN\n",
      "paullab ceo leehojun\n",
      "hello world\n",
      "     hello world     \n",
      "['paullab', 'CEO', 'LeeHoJun']\n",
      "paullab!CEO!LeeHoJun\n",
      "제 이름은 이상재입니다. 제 나이는 25입니다\n",
      "제 이름은 25입니다. 제 나이는 이상재입니다\n"
     ]
    }
   ],
   "source": [
    "s = 'paullab CEO LeeHoJun'\n",
    "print(type(s))\n",
    "print(dir(s)) #문자열에서 사용할 수 있는 기능들 : 메소드\n",
    "print(s.upper())\n",
    "print(s.lower())\n",
    "s.count('l')\n",
    "ss = '     hello world     '\n",
    "print(ss.strip())\n",
    "print(ss)\n",
    "a = s.split(' ')\n",
    "print(a)\n",
    "print('!'.join(a))\n",
    "print('제 이름은 {}입니다. 제 나이는 {}입니다'.format('이상재', 25))\n",
    "print('제 이름은 {1}입니다. 제 나이는 {0}입니다'.format('이상재', 25))"
   ]
  },
  {
   "cell_type": "code",
   "execution_count": 44,
   "id": "672a450d",
   "metadata": {},
   "outputs": [
    {
     "name": "stdout",
     "output_type": "stream",
     "text": [
      "2019/9/24 2019 9 24\n"
     ]
    }
   ],
   "source": [
    "a = 2019\n",
    "b = 9\n",
    "c = 24\n",
    "#2019/9/24\n",
    "print(a, b, c, sep='/', end=' ') #seperate 나누겠다 #마지막에 엔터가 아니라 공백\n",
    "print(a, b, c)"
   ]
  },
  {
   "cell_type": "code",
   "execution_count": 46,
   "id": "9fbcb969",
   "metadata": {},
   "outputs": [
    {
     "name": "stdout",
     "output_type": "stream",
     "text": [
      "20\n",
      "1010\n"
     ]
    }
   ],
   "source": [
    "a = 10\n",
    "b = '10'\n",
    "print(a + int(b)) #형변환\n",
    "print(str(a) + b)"
   ]
  },
  {
   "cell_type": "code",
   "execution_count": 48,
   "id": "f49a79ef",
   "metadata": {},
   "outputs": [
    {
     "name": "stdout",
     "output_type": "stream",
     "text": [
      "<class 'bool'>\n"
     ]
    }
   ],
   "source": [
    "a = True\n",
    "b = False\n",
    "print(type(a))\n",
    "#print(dir(a))"
   ]
  },
  {
   "cell_type": "code",
   "execution_count": 55,
   "id": "8400f792",
   "metadata": {},
   "outputs": [
    {
     "name": "stdout",
     "output_type": "stream",
     "text": [
      "True\n",
      "False\n",
      "False\n",
      "True\n",
      "True\n",
      "False\n"
     ]
    }
   ],
   "source": [
    "print(bool(' ')) #공백이있음\n",
    "print(bool('')) #아무것도 없음\n",
    "print(bool(0))\n",
    "print(bool(1)) #0을 제외한 숫자는 True\n",
    "print(bool(-1))\n",
    "print(bool(None)) #아무것도 없음"
   ]
  },
  {
   "cell_type": "code",
   "execution_count": 59,
   "id": "51e908f9",
   "metadata": {},
   "outputs": [
    {
     "name": "stdout",
     "output_type": "stream",
     "text": [
      "13\n",
      "-7\n",
      "3.3333333333333335\n",
      "3\n",
      "30\n",
      "1000\n",
      "1\n"
     ]
    }
   ],
   "source": [
    "#산술연산\n",
    "a = 3\n",
    "b = 10\n",
    "print(a + b)\n",
    "print(a - b)\n",
    "print(b / a) #float\n",
    "print(b // a) #int\n",
    "print(b * a)\n",
    "print(b ** a) #제곱\n",
    "print(b % a) #나머지, 중요!!"
   ]
  },
  {
   "cell_type": "code",
   "execution_count": 61,
   "id": "08ddb0dd",
   "metadata": {},
   "outputs": [
    {
     "name": "stdout",
     "output_type": "stream",
     "text": [
      "True\n",
      "True\n",
      "False\n",
      "False\n",
      "True\n"
     ]
    }
   ],
   "source": [
    "#비교연산\n",
    "a = 10\n",
    "b = 3\n",
    "print(a >= b)\n",
    "print(a > b)\n",
    "print(a < b)\n",
    "print(a == b) #같다, = 는 대입\n",
    "print(a != b) #같지 않다"
   ]
  },
  {
   "cell_type": "code",
   "execution_count": 64,
   "id": "54ed9652",
   "metadata": {},
   "outputs": [
    {
     "name": "stdout",
     "output_type": "stream",
     "text": [
      "False\n",
      "True\n",
      "True\n"
     ]
    }
   ],
   "source": [
    "#논리연산\n",
    "a = True        #1\n",
    "b = False       #0\n",
    "print(a and b)  # *\n",
    "print(a or b)   # +\n",
    "print(not b)    #반대"
   ]
  },
  {
   "cell_type": "code",
   "execution_count": 66,
   "id": "756bfa41",
   "metadata": {},
   "outputs": [
    {
     "name": "stdout",
     "output_type": "stream",
     "text": [
      "30\n"
     ]
    }
   ],
   "source": [
    "#할당연산\n",
    "a = 10\n",
    "a = a + 10\n",
    "a += 10\n",
    "print(a)"
   ]
  },
  {
   "cell_type": "code",
   "execution_count": 73,
   "id": "1291f0c9",
   "metadata": {},
   "outputs": [
    {
     "name": "stdout",
     "output_type": "stream",
     "text": [
      "8\n",
      "101000\n",
      "001110\n"
     ]
    }
   ],
   "source": [
    "#bit 연산\n",
    "a = 40\n",
    "b = 14\n",
    "print(a & b)\n",
    "# &, | , ~\n",
    "print(bin(a)[2:].zfill(6))\n",
    "print(bin(b)[2:].zfill(6))\n",
    "# 101000\n",
    "# 001110\n",
    "# 001000\n",
    "#0 + 1 = 0, 1 + 1 = 1 (and연산)\n",
    "#따라서 2진법 1000 = 8"
   ]
  },
  {
   "cell_type": "code",
   "execution_count": 75,
   "id": "a4c7c4a4",
   "metadata": {},
   "outputs": [
    {
     "name": "stdout",
     "output_type": "stream",
     "text": [
      "8\n"
     ]
    }
   ],
   "source": [
    "def f(x, y): #x와 y는 파라미터\n",
    "    z = x + y #스페이스 4번, 탭이 아니야!! 섞어쓰면 에러남!!\n",
    "    return z\n",
    "print(f(3, 5)) #3과 5는 argument, 인자"
   ]
  },
  {
   "cell_type": "code",
   "execution_count": 79,
   "id": "d368f473",
   "metadata": {},
   "outputs": [
    {
     "name": "stdout",
     "output_type": "stream",
     "text": [
      "3\n",
      "4\n",
      "1\n",
      "2\n",
      "None\n"
     ]
    }
   ],
   "source": [
    "def ff():\n",
    "    print('1')\n",
    "    print('2') #함수의 범위는 공백된 곳까지\n",
    "    return None #함수는 항상 return이 포함됨\n",
    "print('3')\n",
    "print(4)\n",
    "ff()\n",
    "print(None)"
   ]
  },
  {
   "cell_type": "code",
   "execution_count": 80,
   "id": "363793c0",
   "metadata": {},
   "outputs": [
    {
     "name": "stdout",
     "output_type": "stream",
     "text": [
      "314.0\n"
     ]
    }
   ],
   "source": [
    "def circle(r):\n",
    "    width = r*r*3.14\n",
    "    return width\n",
    "print(circle(10))"
   ]
  },
  {
   "cell_type": "code",
   "execution_count": 85,
   "id": "7116ac5c",
   "metadata": {},
   "outputs": [
    {
     "name": "stdout",
     "output_type": "stream",
     "text": [
      "20\n",
      "20\n"
     ]
    }
   ],
   "source": [
    "a= 10\n",
    "def aplus(aa):\n",
    "    aa += 10\n",
    "    return aa\n",
    "print(aplus(a))\n",
    "\n",
    "a= 10\n",
    "def aplus():\n",
    "    global a #주의, 밖 변수에 영향을 끼치게 됨\n",
    "    a += 10\n",
    "    return a\n",
    "print(aplus())"
   ]
  },
  {
   "cell_type": "code",
   "execution_count": null,
   "id": "da19b8a0",
   "metadata": {},
   "outputs": [],
   "source": []
  }
 ],
 "metadata": {
  "kernelspec": {
   "display_name": "Python 3",
   "language": "python",
   "name": "python3"
  },
  "language_info": {
   "codemirror_mode": {
    "name": "ipython",
    "version": 3
   },
   "file_extension": ".py",
   "mimetype": "text/x-python",
   "name": "python",
   "nbconvert_exporter": "python",
   "pygments_lexer": "ipython3",
   "version": "3.8.8"
  }
 },
 "nbformat": 4,
 "nbformat_minor": 5
}
