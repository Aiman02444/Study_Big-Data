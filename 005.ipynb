{
 "cells": [
  {
   "cell_type": "code",
   "execution_count": 4,
   "id": "3a14c959",
   "metadata": {},
   "outputs": [
    {
     "name": "stdout",
     "output_type": "stream",
     "text": [
      "5\n",
      "5\n",
      "5\n",
      "<class '__main__.Car'>\n",
      "['__class__', '__delattr__', '__dict__', '__dir__', '__doc__', '__eq__', '__format__', '__ge__', '__getattribute__', '__gt__', '__hash__', '__init__', '__init_subclass__', '__le__', '__lt__', '__module__', '__ne__', '__new__', '__reduce__', '__reduce_ex__', '__repr__', '__setattr__', '__sizeof__', '__str__', '__subclasshook__', '__weakref__', 'maxPeople', 'maxSpeed', 'start', 'stop']\n"
     ]
    }
   ],
   "source": [
    "class Car(object): #붕어빵찍는 틀\n",
    "    maxSpeed = 300\n",
    "    maxPeople = 5\n",
    "    def start(self):\n",
    "        print('출발')\n",
    "    def stop(self):\n",
    "        print('정지')\n",
    "\n",
    "k9 = Car() #찍혀져 나오는 것\n",
    "k5 = Car()\n",
    "k3 = Car()\n",
    "print(k9.maxPeople)\n",
    "print(Car.maxPeople) #ㄴㄴ\n",
    "print(k3.maxPeople)\n",
    "print(type(k9))\n",
    "print(dir(k9))"
   ]
  },
  {
   "cell_type": "markdown",
   "id": "e32c865e",
   "metadata": {},
   "source": [
    "#esc + m == plan text\n",
    "\n",
    "# 제목1\n",
    "## 제목2\n",
    "### 제목3\n",
    "plan text\n",
    "1. hello world\n",
    "2. hello world"
   ]
  },
  {
   "cell_type": "markdown",
   "id": "6390ab02",
   "metadata": {},
   "source": [
    "## class\n",
    "1. class name 첫 문자가 대문자\n",
    "2. class 는 대부분 직접만지지 않습니다.\n",
    "3. class를 붕어빵 찍는 틀로 생각한다면 instance는 붕어빵입니다."
   ]
  },
  {
   "cell_type": "code",
   "execution_count": 9,
   "id": "16434dfd",
   "metadata": {},
   "outputs": [
    {
     "name": "stdout",
     "output_type": "stream",
     "text": [
      "인스턴스가 만들어졌습니다!!\n",
      "인스턴스가 만들어졌습니다!!\n",
      "인스턴스가 만들어졌습니다!!\n",
      "5\n",
      "5\n",
      "<class '__main__.Car'>\n",
      "['__class__', '__delattr__', '__dict__', '__dir__', '__doc__', '__eq__', '__format__', '__ge__', '__getattribute__', '__gt__', '__hash__', '__init__', '__init_subclass__', '__le__', '__lt__', '__module__', '__ne__', '__new__', '__reduce__', '__reduce_ex__', '__repr__', '__setattr__', '__sizeof__', '__str__', '__subclasshook__', '__weakref__', 'maxPeople', 'maxSpeed', 'start', 'stop']\n",
      "hello world\n"
     ]
    }
   ],
   "source": [
    "class Car(object):\n",
    "    maxSpeed = 300\n",
    "    maxPeople = 5\n",
    "    def start(self):\n",
    "        print('출발')\n",
    "    def stop(self):\n",
    "        print('정지')\n",
    "    def __str__(self): #매직 매서드\n",
    "        return 'hello world'\n",
    "    def __init__(self): #인스턴스가 만들어질 때마다 생성되는 애\n",
    "        print('인스턴스가 만들어졌습니다!!')\n",
    "        \n",
    "class Hybrid(Car): #상속, 상위클래스 함수 사용 가능\n",
    "    battery = 1000\n",
    "    batteryKM = 300\n",
    "\n",
    "k9 = Car() #인스턴스1\n",
    "k5 = Car() #인스턴스 2\n",
    "k3 = Hybrid() #인스턴스 3\n",
    "print(k9.maxPeople)\n",
    "print(k3.maxPeople)\n",
    "print(type(k9))\n",
    "print(dir(k9))\n",
    "print(k9)\n"
   ]
  },
  {
   "cell_type": "code",
   "execution_count": null,
   "id": "6c22349e",
   "metadata": {},
   "outputs": [],
   "source": []
  }
 ],
 "metadata": {
  "kernelspec": {
   "display_name": "Python 3",
   "language": "python",
   "name": "python3"
  },
  "language_info": {
   "codemirror_mode": {
    "name": "ipython",
    "version": 3
   },
   "file_extension": ".py",
   "mimetype": "text/x-python",
   "name": "python",
   "nbconvert_exporter": "python",
   "pygments_lexer": "ipython3",
   "version": "3.8.8"
  }
 },
 "nbformat": 4,
 "nbformat_minor": 5
}
